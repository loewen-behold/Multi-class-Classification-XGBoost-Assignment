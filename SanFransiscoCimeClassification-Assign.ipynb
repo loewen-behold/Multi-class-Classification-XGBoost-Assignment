{
 "cells": [
  {
   "cell_type": "markdown",
   "id": "01af7d4c-2578-4c5b-ac13-815bc00a15f3",
   "metadata": {},
   "source": [
    "# San Fransisco Crime Classification"
   ]
  },
  {
   "cell_type": "code",
   "execution_count": 3,
   "id": "ec24d8ee-8a0d-46b2-b66e-83f1c0c53761",
   "metadata": {
    "tags": []
   },
   "outputs": [],
   "source": [
    "import numpy as np\n",
    "import pandas as pd\n",
    "import xgboost as xgb\n",
    "from sklearn.model_selection import train_test_split\n",
    "from sklearn.metrics import accuracy_score"
   ]
  },
  {
   "cell_type": "code",
   "execution_count": 4,
   "id": "bbff2c7e-277e-4932-a952-f1ec14aad75a",
   "metadata": {
    "tags": []
   },
   "outputs": [],
   "source": [
    "df_train = pd.read_csv('train.csv')\n",
    "df_test = pd.read_csv('test.csv')"
   ]
  },
  {
   "cell_type": "code",
   "execution_count": 5,
   "id": "8db7ea5b-2ff8-4c30-91a4-aaf1793600b4",
   "metadata": {
    "tags": []
   },
   "outputs": [],
   "source": [
    "# Converting the Dates to Year, Month, Day, Hour columns\n",
    "def date_extract (df):\n",
    "    \n",
    "    df_date_to_cols = df.copy()\n",
    "    \n",
    "    # Convert the 'Dates' column to a datetime object\n",
    "    df_date_to_cols['Dates'] = pd.to_datetime(df_date_to_cols['Dates'])\n",
    "\n",
    "    # Extract Year, Month, Day, and Hour\n",
    "    df_date_to_cols['Year'] = df_date_to_cols['Dates'].dt.year\n",
    "    df_date_to_cols['Month'] = df_date_to_cols['Dates'].dt.month\n",
    "    df_date_to_cols['Day'] = df_date_to_cols['Dates'].dt.day\n",
    "    df_date_to_cols['Hour'] = df_date_to_cols['Dates'].dt.hour\n",
    "\n",
    "    # Calculate fractional hour (Hour + Minutes / 60)\n",
    "    df_date_to_cols['FractionalHour'] = df_date_to_cols['Dates'].dt.hour + df_date_to_cols['Dates'].dt.minute / 60\n",
    "    \n",
    "    return df_date_to_cols"
   ]
  },
  {
   "cell_type": "code",
   "execution_count": 6,
   "id": "920083e3-a109-4702-967c-a5e4007412f3",
   "metadata": {
    "tags": []
   },
   "outputs": [],
   "source": [
    "# Calling the function date_extract to split up the date-time into different columns for each of the training and test set.\n",
    "df_train = date_extract(df_train)\n",
    "df_test = date_extract(df_test)"
   ]
  },
  {
   "cell_type": "code",
   "execution_count": 7,
   "id": "f7e2aaaa-dd40-4e63-b061-db76b93a0beb",
   "metadata": {
    "tags": []
   },
   "outputs": [],
   "source": [
    "# Dropping the 'Dates' column after we've extracted what we want.  Also dropping the address column\n",
    "df_train.drop('Dates', axis=1, inplace=True)\n",
    "df_test.drop('Dates', axis=1, inplace=True)\n",
    "\n",
    "df_train.drop('Address', axis=1, inplace=True)\n",
    "df_test.drop('Address', axis=1, inplace=True)"
   ]
  },
  {
   "cell_type": "code",
   "execution_count": 8,
   "id": "de863bdb-9139-4235-9400-02a0d265ad2d",
   "metadata": {
    "tags": []
   },
   "outputs": [
    {
     "data": {
      "text/html": [
       "<div>\n",
       "<style scoped>\n",
       "    .dataframe tbody tr th:only-of-type {\n",
       "        vertical-align: middle;\n",
       "    }\n",
       "\n",
       "    .dataframe tbody tr th {\n",
       "        vertical-align: top;\n",
       "    }\n",
       "\n",
       "    .dataframe thead th {\n",
       "        text-align: right;\n",
       "    }\n",
       "</style>\n",
       "<table border=\"1\" class=\"dataframe\">\n",
       "  <thead>\n",
       "    <tr style=\"text-align: right;\">\n",
       "      <th></th>\n",
       "      <th>Category</th>\n",
       "      <th>Descript</th>\n",
       "      <th>DayOfWeek</th>\n",
       "      <th>PdDistrict</th>\n",
       "      <th>Resolution</th>\n",
       "      <th>X</th>\n",
       "      <th>Y</th>\n",
       "      <th>Year</th>\n",
       "      <th>Month</th>\n",
       "      <th>Day</th>\n",
       "      <th>Hour</th>\n",
       "      <th>FractionalHour</th>\n",
       "    </tr>\n",
       "  </thead>\n",
       "  <tbody>\n",
       "    <tr>\n",
       "      <th>0</th>\n",
       "      <td>WARRANTS</td>\n",
       "      <td>WARRANT ARREST</td>\n",
       "      <td>Wednesday</td>\n",
       "      <td>NORTHERN</td>\n",
       "      <td>ARREST, BOOKED</td>\n",
       "      <td>-122.425892</td>\n",
       "      <td>37.774599</td>\n",
       "      <td>2015</td>\n",
       "      <td>5</td>\n",
       "      <td>13</td>\n",
       "      <td>23</td>\n",
       "      <td>23.883333</td>\n",
       "    </tr>\n",
       "    <tr>\n",
       "      <th>1</th>\n",
       "      <td>OTHER OFFENSES</td>\n",
       "      <td>TRAFFIC VIOLATION ARREST</td>\n",
       "      <td>Wednesday</td>\n",
       "      <td>NORTHERN</td>\n",
       "      <td>ARREST, BOOKED</td>\n",
       "      <td>-122.425892</td>\n",
       "      <td>37.774599</td>\n",
       "      <td>2015</td>\n",
       "      <td>5</td>\n",
       "      <td>13</td>\n",
       "      <td>23</td>\n",
       "      <td>23.883333</td>\n",
       "    </tr>\n",
       "    <tr>\n",
       "      <th>2</th>\n",
       "      <td>OTHER OFFENSES</td>\n",
       "      <td>TRAFFIC VIOLATION ARREST</td>\n",
       "      <td>Wednesday</td>\n",
       "      <td>NORTHERN</td>\n",
       "      <td>ARREST, BOOKED</td>\n",
       "      <td>-122.424363</td>\n",
       "      <td>37.800414</td>\n",
       "      <td>2015</td>\n",
       "      <td>5</td>\n",
       "      <td>13</td>\n",
       "      <td>23</td>\n",
       "      <td>23.550000</td>\n",
       "    </tr>\n",
       "    <tr>\n",
       "      <th>3</th>\n",
       "      <td>LARCENY/THEFT</td>\n",
       "      <td>GRAND THEFT FROM LOCKED AUTO</td>\n",
       "      <td>Wednesday</td>\n",
       "      <td>NORTHERN</td>\n",
       "      <td>NONE</td>\n",
       "      <td>-122.426995</td>\n",
       "      <td>37.800873</td>\n",
       "      <td>2015</td>\n",
       "      <td>5</td>\n",
       "      <td>13</td>\n",
       "      <td>23</td>\n",
       "      <td>23.500000</td>\n",
       "    </tr>\n",
       "    <tr>\n",
       "      <th>4</th>\n",
       "      <td>LARCENY/THEFT</td>\n",
       "      <td>GRAND THEFT FROM LOCKED AUTO</td>\n",
       "      <td>Wednesday</td>\n",
       "      <td>PARK</td>\n",
       "      <td>NONE</td>\n",
       "      <td>-122.438738</td>\n",
       "      <td>37.771541</td>\n",
       "      <td>2015</td>\n",
       "      <td>5</td>\n",
       "      <td>13</td>\n",
       "      <td>23</td>\n",
       "      <td>23.500000</td>\n",
       "    </tr>\n",
       "  </tbody>\n",
       "</table>\n",
       "</div>"
      ],
      "text/plain": [
       "         Category                      Descript  DayOfWeek PdDistrict  \\\n",
       "0        WARRANTS                WARRANT ARREST  Wednesday   NORTHERN   \n",
       "1  OTHER OFFENSES      TRAFFIC VIOLATION ARREST  Wednesday   NORTHERN   \n",
       "2  OTHER OFFENSES      TRAFFIC VIOLATION ARREST  Wednesday   NORTHERN   \n",
       "3   LARCENY/THEFT  GRAND THEFT FROM LOCKED AUTO  Wednesday   NORTHERN   \n",
       "4   LARCENY/THEFT  GRAND THEFT FROM LOCKED AUTO  Wednesday       PARK   \n",
       "\n",
       "       Resolution           X          Y  Year  Month  Day  Hour  \\\n",
       "0  ARREST, BOOKED -122.425892  37.774599  2015      5   13    23   \n",
       "1  ARREST, BOOKED -122.425892  37.774599  2015      5   13    23   \n",
       "2  ARREST, BOOKED -122.424363  37.800414  2015      5   13    23   \n",
       "3            NONE -122.426995  37.800873  2015      5   13    23   \n",
       "4            NONE -122.438738  37.771541  2015      5   13    23   \n",
       "\n",
       "   FractionalHour  \n",
       "0       23.883333  \n",
       "1       23.883333  \n",
       "2       23.550000  \n",
       "3       23.500000  \n",
       "4       23.500000  "
      ]
     },
     "execution_count": 8,
     "metadata": {},
     "output_type": "execute_result"
    }
   ],
   "source": [
    "df_train.head()"
   ]
  },
  {
   "cell_type": "code",
   "execution_count": null,
   "id": "dd920f72-5b81-4d88-893d-0c3bf91e85e9",
   "metadata": {
    "tags": []
   },
   "outputs": [],
   "source": []
  },
  {
   "cell_type": "code",
   "execution_count": 9,
   "id": "f41801e0-7335-4300-b3f1-622e2c52c8b1",
   "metadata": {
    "tags": []
   },
   "outputs": [],
   "source": [
    "# Encode categorical features (DayOfWeek, PdDistrict) using one-hot encoding\n",
    "df_train = pd.get_dummies(df_train, columns=['DayOfWeek', 'PdDistrict'])\n",
    "\n",
    "# Encode the target variable (Category) into numerical labels\n",
    "from sklearn.preprocessing import LabelEncoder\n",
    "label_encoder = LabelEncoder()\n",
    "df_train['Category'] = label_encoder.fit_transform(df_train['Category'])\n",
    "\n",
    "# Data Preprocessing for Test Data\n",
    "# Encode categorical features in the same way as training data\n",
    "df_test = pd.get_dummies(df_test, columns=[\"DayOfWeek\", \"PdDistrict\"])"
   ]
  },
  {
   "cell_type": "code",
   "execution_count": 10,
   "id": "e95a1772-e1a8-4f28-88ef-bcd5743ecc0a",
   "metadata": {
    "tags": []
   },
   "outputs": [],
   "source": [
    "X_train = df_train.drop(columns=['Category','Descript','Resolution'], axis=1)\n",
    "y_train = df_train['Category']"
   ]
  },
  {
   "cell_type": "code",
   "execution_count": 11,
   "id": "827987c7-709e-49f5-b048-97a0678eecb3",
   "metadata": {
    "tags": []
   },
   "outputs": [],
   "source": [
    "df_test_id = df_test['Id']\n",
    "X_test = df_test.drop('Id', axis=1)"
   ]
  },
  {
   "cell_type": "markdown",
   "id": "ffd214dd-11b0-4e5c-8416-e46185041f05",
   "metadata": {
    "tags": []
   },
   "source": [
    "## Model Training"
   ]
  },
  {
   "cell_type": "code",
   "execution_count": 12,
   "id": "e05dec3e-27cd-4897-9fbb-d4b5e3279842",
   "metadata": {
    "tags": []
   },
   "outputs": [],
   "source": [
    "# Split the data into training and validation sets\n",
    "X_train, X_val, y_train, y_val = train_test_split(X_train, y_train, test_size=0.2, random_state=42)"
   ]
  },
  {
   "cell_type": "code",
   "execution_count": 13,
   "id": "99f026d4-20de-4446-8975-70b7e574ac83",
   "metadata": {
    "tags": []
   },
   "outputs": [
    {
     "data": {
      "text/plain": [
       "81381     20\n",
       "238545    20\n",
       "823641    36\n",
       "497355     1\n",
       "484193     7\n",
       "          ..\n",
       "259178    16\n",
       "365838    27\n",
       "131932    16\n",
       "671155    21\n",
       "121958    16\n",
       "Name: Category, Length: 702439, dtype: int64"
      ]
     },
     "execution_count": 13,
     "metadata": {},
     "output_type": "execute_result"
    }
   ],
   "source": [
    "y_train"
   ]
  },
  {
   "cell_type": "code",
   "execution_count": 14,
   "id": "1df4d380-fa94-4768-bba2-2774036585ff",
   "metadata": {
    "tags": []
   },
   "outputs": [],
   "source": [
    "# Convert the training and testing data to DMatrix format\n",
    "dtrain = xgb.DMatrix(X_train, label=y_train)\n",
    "dtest = xgb.DMatrix(X_val, label=y_val)\n",
    "\n",
    "# Set the XGBoost parameters\n",
    "params = {\n",
    "    'objective': 'multi:softmax',\n",
    "    'num_class': len(label_encoder.classes_),\n",
    "    'max_depth': 3,\n",
    "    'eta': 0.3\n",
    "}\n",
    "\n",
    "# Train the XGBoost model\n",
    "num_rounds = 100\n",
    "xgb_model = xgb.train(params, dtrain, num_rounds)"
   ]
  },
  {
   "cell_type": "code",
   "execution_count": 15,
   "id": "43fd9a98-2506-4a49-829f-74007651481a",
   "metadata": {
    "tags": []
   },
   "outputs": [],
   "source": [
    "# Make predictions on the validation set\n",
    "y_pred = xgb_model.predict(dtest)"
   ]
  },
  {
   "cell_type": "code",
   "execution_count": 16,
   "id": "0d73398d-f44f-4aa3-98c9-56ba3a70baab",
   "metadata": {
    "tags": []
   },
   "outputs": [
    {
     "name": "stdout",
     "output_type": "stream",
     "text": [
      "Accuracy: 0.28\n",
      "Confusion Matrix:\n",
      "[[   2   28    0 ...   19    0    0]\n",
      " [   1 1076    0 ...  643    0    0]\n",
      " [   0    0    0 ...    4    0    0]\n",
      " ...\n",
      " [   1  218    0 ... 2261    0    0]\n",
      " [   0  249    0 ...  152    1    0]\n",
      " [   0  137    0 ...   55    0    0]]\n"
     ]
    },
    {
     "name": "stderr",
     "output_type": "stream",
     "text": [
      "/Users/jlo/anaconda3/envs/newenv/lib/python3.8/site-packages/sklearn/metrics/_classification.py:1469: UndefinedMetricWarning: Precision and F-score are ill-defined and being set to 0.0 in labels with no predicted samples. Use `zero_division` parameter to control this behavior.\n",
      "  _warn_prf(average, modifier, msg_start, len(result))\n",
      "/Users/jlo/anaconda3/envs/newenv/lib/python3.8/site-packages/sklearn/metrics/_classification.py:1469: UndefinedMetricWarning: Precision and F-score are ill-defined and being set to 0.0 in labels with no predicted samples. Use `zero_division` parameter to control this behavior.\n",
      "  _warn_prf(average, modifier, msg_start, len(result))\n",
      "/Users/jlo/anaconda3/envs/newenv/lib/python3.8/site-packages/sklearn/metrics/_classification.py:1469: UndefinedMetricWarning: Precision and F-score are ill-defined and being set to 0.0 in labels with no predicted samples. Use `zero_division` parameter to control this behavior.\n",
      "  _warn_prf(average, modifier, msg_start, len(result))\n"
     ]
    },
    {
     "name": "stdout",
     "output_type": "stream",
     "text": [
      "Classification Report:\n",
      "                             precision    recall  f1-score   support\n",
      "\n",
      "                      ARSON       0.22      0.01      0.01       321\n",
      "                    ASSAULT       0.21      0.07      0.10     15364\n",
      "                 BAD CHECKS       0.00      0.00      0.00        72\n",
      "                    BRIBERY       0.00      0.00      0.00        58\n",
      "                   BURGLARY       0.21      0.01      0.01      7389\n",
      "         DISORDERLY CONDUCT       0.29      0.05      0.09       828\n",
      "DRIVING UNDER THE INFLUENCE       0.00      0.00      0.00       459\n",
      "              DRUG/NARCOTIC       0.32      0.38      0.35     10723\n",
      "                DRUNKENNESS       0.00      0.00      0.00       857\n",
      "               EMBEZZLEMENT       0.33      0.00      0.01       222\n",
      "                  EXTORTION       0.00      0.00      0.00        51\n",
      "            FAMILY OFFENSES       0.00      0.00      0.00        92\n",
      "     FORGERY/COUNTERFEITING       0.20      0.02      0.04      2092\n",
      "                      FRAUD       0.24      0.01      0.01      3277\n",
      "                   GAMBLING       0.00      0.00      0.00        33\n",
      "                 KIDNAPPING       0.00      0.00      0.00       435\n",
      "              LARCENY/THEFT       0.30      0.75      0.43     35099\n",
      "                LIQUOR LAWS       0.00      0.00      0.00       380\n",
      "                  LOITERING       0.61      0.14      0.23       258\n",
      "             MISSING PERSON       0.61      0.28      0.39      5129\n",
      "               NON-CRIMINAL       0.26      0.12      0.16     18500\n",
      "             OTHER OFFENSES       0.22      0.41      0.28     25026\n",
      "    PORNOGRAPHY/OBSCENE MAT       0.00      0.00      0.00         4\n",
      "               PROSTITUTION       0.46      0.70      0.55      1538\n",
      "          RECOVERED VEHICLE       0.00      0.00      0.00       614\n",
      "                    ROBBERY       0.20      0.00      0.00      4592\n",
      "                    RUNAWAY       0.57      0.24      0.33       401\n",
      "            SECONDARY CODES       0.31      0.00      0.01      2063\n",
      "      SEX OFFENSES FORCIBLE       0.40      0.00      0.01       909\n",
      "  SEX OFFENSES NON FORCIBLE       0.00      0.00      0.00        26\n",
      "            STOLEN PROPERTY       0.00      0.00      0.00       917\n",
      "                    SUICIDE       0.17      0.01      0.02        92\n",
      "             SUSPICIOUS OCC       0.20      0.00      0.00      6252\n",
      "                       TREA       0.00      0.00      0.00         2\n",
      "                   TRESPASS       0.26      0.02      0.03      1514\n",
      "                  VANDALISM       0.30      0.01      0.01      9124\n",
      "              VEHICLE THEFT       0.27      0.21      0.24     10671\n",
      "                   WARRANTS       0.33      0.00      0.00      8514\n",
      "                WEAPON LAWS       0.00      0.00      0.00      1712\n",
      "\n",
      "                   accuracy                           0.28    175610\n",
      "                  macro avg       0.19      0.09      0.09    175610\n",
      "               weighted avg       0.27      0.28      0.21    175610\n",
      "\n",
      "Cohen's Kappa Score: 0.15\n",
      "Log Loss: 3.40\n"
     ]
    },
    {
     "name": "stderr",
     "output_type": "stream",
     "text": [
      "/Users/jlo/anaconda3/envs/newenv/lib/python3.8/site-packages/sklearn/metrics/_classification.py:2916: UserWarning: The y_pred values do not sum to one. Starting from 1.5 thiswill result in an error.\n",
      "  warnings.warn(\n"
     ]
    }
   ],
   "source": [
    "from sklearn.metrics import accuracy_score, confusion_matrix, classification_report, roc_curve, auc, cohen_kappa_score, log_loss\n",
    "import matplotlib.pyplot as plt\n",
    "\n",
    "# Evaluate the Accuracy of the model\n",
    "accuracy = accuracy_score(y_val, y_pred)\n",
    "print(f'Accuracy: {accuracy:.2f}')\n",
    "\n",
    "# Calculate the confusion matrix\n",
    "cm = confusion_matrix(y_val, y_pred)\n",
    "print(f'Confusion Matrix:\\n{cm}')\n",
    "\n",
    "# Generate a classification report\n",
    "cr = classification_report(y_val, y_pred, target_names=label_encoder.classes_)\n",
    "print(f'Classification Report:\\n{cr}')\n",
    "\n",
    "# Calculate Cohen's Kappa score\n",
    "kappa = cohen_kappa_score(y_val, y_pred)\n",
    "print(f'Cohen\\'s Kappa Score: {kappa:.2f}')\n",
    "\n",
    "# Calculate the log loss\n",
    "y_pred_prob = xgb_model.predict(dtest, output_margin=True)\n",
    "logloss = log_loss(y_val, y_pred_prob)\n",
    "print(f'Log Loss: {logloss:.2f}')"
   ]
  },
  {
   "cell_type": "code",
   "execution_count": null,
   "id": "b54a45bd-ebbd-4cae-a0c4-499c4f0aee94",
   "metadata": {},
   "outputs": [],
   "source": []
  },
  {
   "cell_type": "code",
   "execution_count": 17,
   "id": "f6d4539b-4872-480f-b821-b9afd2552396",
   "metadata": {
    "tags": []
   },
   "outputs": [],
   "source": [
    "dtest = xgb.DMatrix(X_test)\n",
    "# Make predictions on the test data\n",
    "test_predictions = xgb_model.predict(dtest)"
   ]
  },
  {
   "cell_type": "code",
   "execution_count": 18,
   "id": "29e37b92-0e3c-4543-8b61-ee5a8c810898",
   "metadata": {
    "tags": []
   },
   "outputs": [],
   "source": [
    "test_predictions = test_predictions.astype(int)"
   ]
  },
  {
   "cell_type": "code",
   "execution_count": 19,
   "id": "54f9cf2e-1c82-458f-be00-d151b154fe20",
   "metadata": {
    "tags": []
   },
   "outputs": [
    {
     "name": "stdout",
     "output_type": "stream",
     "text": [
      "['VEHICLE THEFT' 'OTHER OFFENSES' 'LARCENY/THEFT' ... 'OTHER OFFENSES'\n",
      " 'OTHER OFFENSES' 'LARCENY/THEFT']\n"
     ]
    }
   ],
   "source": [
    "# Inverse transform to get the original labels\n",
    "predicted_labels_original = label_encoder.inverse_transform(test_predictions)\n",
    "\n",
    "# Now, 'predicted_labels_original' will contain the original labels\n",
    "print(predicted_labels_original)"
   ]
  },
  {
   "cell_type": "code",
   "execution_count": 20,
   "id": "5341a5fd-8f99-4c30-85aa-f602f061a421",
   "metadata": {
    "tags": []
   },
   "outputs": [],
   "source": [
    "categories = label_encoder.classes_"
   ]
  },
  {
   "cell_type": "code",
   "execution_count": 31,
   "id": "e9c5f9f3-fbeb-4b67-b2a4-264f764cc668",
   "metadata": {
    "tags": []
   },
   "outputs": [
    {
     "data": {
      "text/plain": [
       "39"
      ]
     },
     "execution_count": 31,
     "metadata": {},
     "output_type": "execute_result"
    }
   ],
   "source": [
    "len(categories)"
   ]
  },
  {
   "cell_type": "code",
   "execution_count": 34,
   "id": "b09c916a-bd32-446f-b7b1-8b9ee6961ecc",
   "metadata": {
    "tags": []
   },
   "outputs": [],
   "source": [
    "columns = np.insert(categories, 0, 'Id')"
   ]
  },
  {
   "cell_type": "code",
   "execution_count": 35,
   "id": "95bb5ecc-58ae-4f03-a983-a77a55d6188d",
   "metadata": {
    "tags": []
   },
   "outputs": [
    {
     "data": {
      "text/plain": [
       "array(['Id', 'ARSON', 'ASSAULT', 'BAD CHECKS', 'BRIBERY', 'BURGLARY',\n",
       "       'DISORDERLY CONDUCT', 'DRIVING UNDER THE INFLUENCE',\n",
       "       'DRUG/NARCOTIC', 'DRUNKENNESS', 'EMBEZZLEMENT', 'EXTORTION',\n",
       "       'FAMILY OFFENSES', 'FORGERY/COUNTERFEITING', 'FRAUD', 'GAMBLING',\n",
       "       'KIDNAPPING', 'LARCENY/THEFT', 'LIQUOR LAWS', 'LOITERING',\n",
       "       'MISSING PERSON', 'NON-CRIMINAL', 'OTHER OFFENSES',\n",
       "       'PORNOGRAPHY/OBSCENE MAT', 'PROSTITUTION', 'RECOVERED VEHICLE',\n",
       "       'ROBBERY', 'RUNAWAY', 'SECONDARY CODES', 'SEX OFFENSES FORCIBLE',\n",
       "       'SEX OFFENSES NON FORCIBLE', 'STOLEN PROPERTY', 'SUICIDE',\n",
       "       'SUSPICIOUS OCC', 'TREA', 'TRESPASS', 'VANDALISM', 'VEHICLE THEFT',\n",
       "       'WARRANTS', 'WEAPON LAWS'], dtype=object)"
      ]
     },
     "execution_count": 35,
     "metadata": {},
     "output_type": "execute_result"
    }
   ],
   "source": [
    "columns"
   ]
  },
  {
   "cell_type": "code",
   "execution_count": 36,
   "id": "d3234f9f-0ea9-445c-aec3-64615a10e706",
   "metadata": {
    "tags": []
   },
   "outputs": [],
   "source": [
    "# Create an empty list to store rows\n",
    "rows = []\n",
    "\n",
    "# Iterate through predictions and IDs to fill the list\n",
    "for id, category in zip(df_test_id, predicted_labels_original):\n",
    "    row = [id] + [1 if cat == category else 0 for cat in categories]\n",
    "    rows.append(row)\n",
    "\n",
    "# Create the result DataFrame by concatenating the rows\n",
    "results_df = pd.DataFrame(rows, columns=columns)"
   ]
  },
  {
   "cell_type": "code",
   "execution_count": 37,
   "id": "8ff11372-d4d5-48e7-ba86-50d2a0280e74",
   "metadata": {
    "tags": []
   },
   "outputs": [
    {
     "data": {
      "text/html": [
       "<div>\n",
       "<style scoped>\n",
       "    .dataframe tbody tr th:only-of-type {\n",
       "        vertical-align: middle;\n",
       "    }\n",
       "\n",
       "    .dataframe tbody tr th {\n",
       "        vertical-align: top;\n",
       "    }\n",
       "\n",
       "    .dataframe thead th {\n",
       "        text-align: right;\n",
       "    }\n",
       "</style>\n",
       "<table border=\"1\" class=\"dataframe\">\n",
       "  <thead>\n",
       "    <tr style=\"text-align: right;\">\n",
       "      <th></th>\n",
       "      <th>Id</th>\n",
       "      <th>ARSON</th>\n",
       "      <th>ASSAULT</th>\n",
       "      <th>BAD CHECKS</th>\n",
       "      <th>BRIBERY</th>\n",
       "      <th>BURGLARY</th>\n",
       "      <th>DISORDERLY CONDUCT</th>\n",
       "      <th>DRIVING UNDER THE INFLUENCE</th>\n",
       "      <th>DRUG/NARCOTIC</th>\n",
       "      <th>DRUNKENNESS</th>\n",
       "      <th>...</th>\n",
       "      <th>SEX OFFENSES NON FORCIBLE</th>\n",
       "      <th>STOLEN PROPERTY</th>\n",
       "      <th>SUICIDE</th>\n",
       "      <th>SUSPICIOUS OCC</th>\n",
       "      <th>TREA</th>\n",
       "      <th>TRESPASS</th>\n",
       "      <th>VANDALISM</th>\n",
       "      <th>VEHICLE THEFT</th>\n",
       "      <th>WARRANTS</th>\n",
       "      <th>WEAPON LAWS</th>\n",
       "    </tr>\n",
       "  </thead>\n",
       "  <tbody>\n",
       "    <tr>\n",
       "      <th>0</th>\n",
       "      <td>0</td>\n",
       "      <td>0</td>\n",
       "      <td>0</td>\n",
       "      <td>0</td>\n",
       "      <td>0</td>\n",
       "      <td>0</td>\n",
       "      <td>0</td>\n",
       "      <td>0</td>\n",
       "      <td>0</td>\n",
       "      <td>0</td>\n",
       "      <td>...</td>\n",
       "      <td>0</td>\n",
       "      <td>0</td>\n",
       "      <td>0</td>\n",
       "      <td>0</td>\n",
       "      <td>0</td>\n",
       "      <td>0</td>\n",
       "      <td>0</td>\n",
       "      <td>1</td>\n",
       "      <td>0</td>\n",
       "      <td>0</td>\n",
       "    </tr>\n",
       "    <tr>\n",
       "      <th>1</th>\n",
       "      <td>1</td>\n",
       "      <td>0</td>\n",
       "      <td>0</td>\n",
       "      <td>0</td>\n",
       "      <td>0</td>\n",
       "      <td>0</td>\n",
       "      <td>0</td>\n",
       "      <td>0</td>\n",
       "      <td>0</td>\n",
       "      <td>0</td>\n",
       "      <td>...</td>\n",
       "      <td>0</td>\n",
       "      <td>0</td>\n",
       "      <td>0</td>\n",
       "      <td>0</td>\n",
       "      <td>0</td>\n",
       "      <td>0</td>\n",
       "      <td>0</td>\n",
       "      <td>0</td>\n",
       "      <td>0</td>\n",
       "      <td>0</td>\n",
       "    </tr>\n",
       "    <tr>\n",
       "      <th>2</th>\n",
       "      <td>2</td>\n",
       "      <td>0</td>\n",
       "      <td>0</td>\n",
       "      <td>0</td>\n",
       "      <td>0</td>\n",
       "      <td>0</td>\n",
       "      <td>0</td>\n",
       "      <td>0</td>\n",
       "      <td>0</td>\n",
       "      <td>0</td>\n",
       "      <td>...</td>\n",
       "      <td>0</td>\n",
       "      <td>0</td>\n",
       "      <td>0</td>\n",
       "      <td>0</td>\n",
       "      <td>0</td>\n",
       "      <td>0</td>\n",
       "      <td>0</td>\n",
       "      <td>0</td>\n",
       "      <td>0</td>\n",
       "      <td>0</td>\n",
       "    </tr>\n",
       "    <tr>\n",
       "      <th>3</th>\n",
       "      <td>3</td>\n",
       "      <td>0</td>\n",
       "      <td>0</td>\n",
       "      <td>0</td>\n",
       "      <td>0</td>\n",
       "      <td>0</td>\n",
       "      <td>0</td>\n",
       "      <td>0</td>\n",
       "      <td>0</td>\n",
       "      <td>0</td>\n",
       "      <td>...</td>\n",
       "      <td>0</td>\n",
       "      <td>0</td>\n",
       "      <td>0</td>\n",
       "      <td>0</td>\n",
       "      <td>0</td>\n",
       "      <td>0</td>\n",
       "      <td>0</td>\n",
       "      <td>0</td>\n",
       "      <td>0</td>\n",
       "      <td>0</td>\n",
       "    </tr>\n",
       "    <tr>\n",
       "      <th>4</th>\n",
       "      <td>4</td>\n",
       "      <td>0</td>\n",
       "      <td>0</td>\n",
       "      <td>0</td>\n",
       "      <td>0</td>\n",
       "      <td>0</td>\n",
       "      <td>0</td>\n",
       "      <td>0</td>\n",
       "      <td>0</td>\n",
       "      <td>0</td>\n",
       "      <td>...</td>\n",
       "      <td>0</td>\n",
       "      <td>0</td>\n",
       "      <td>0</td>\n",
       "      <td>0</td>\n",
       "      <td>0</td>\n",
       "      <td>0</td>\n",
       "      <td>0</td>\n",
       "      <td>0</td>\n",
       "      <td>0</td>\n",
       "      <td>0</td>\n",
       "    </tr>\n",
       "    <tr>\n",
       "      <th>...</th>\n",
       "      <td>...</td>\n",
       "      <td>...</td>\n",
       "      <td>...</td>\n",
       "      <td>...</td>\n",
       "      <td>...</td>\n",
       "      <td>...</td>\n",
       "      <td>...</td>\n",
       "      <td>...</td>\n",
       "      <td>...</td>\n",
       "      <td>...</td>\n",
       "      <td>...</td>\n",
       "      <td>...</td>\n",
       "      <td>...</td>\n",
       "      <td>...</td>\n",
       "      <td>...</td>\n",
       "      <td>...</td>\n",
       "      <td>...</td>\n",
       "      <td>...</td>\n",
       "      <td>...</td>\n",
       "      <td>...</td>\n",
       "      <td>...</td>\n",
       "    </tr>\n",
       "    <tr>\n",
       "      <th>884257</th>\n",
       "      <td>884257</td>\n",
       "      <td>0</td>\n",
       "      <td>0</td>\n",
       "      <td>0</td>\n",
       "      <td>0</td>\n",
       "      <td>0</td>\n",
       "      <td>0</td>\n",
       "      <td>0</td>\n",
       "      <td>0</td>\n",
       "      <td>0</td>\n",
       "      <td>...</td>\n",
       "      <td>0</td>\n",
       "      <td>0</td>\n",
       "      <td>0</td>\n",
       "      <td>0</td>\n",
       "      <td>0</td>\n",
       "      <td>0</td>\n",
       "      <td>0</td>\n",
       "      <td>0</td>\n",
       "      <td>0</td>\n",
       "      <td>0</td>\n",
       "    </tr>\n",
       "    <tr>\n",
       "      <th>884258</th>\n",
       "      <td>884258</td>\n",
       "      <td>0</td>\n",
       "      <td>0</td>\n",
       "      <td>0</td>\n",
       "      <td>0</td>\n",
       "      <td>0</td>\n",
       "      <td>0</td>\n",
       "      <td>0</td>\n",
       "      <td>0</td>\n",
       "      <td>0</td>\n",
       "      <td>...</td>\n",
       "      <td>0</td>\n",
       "      <td>0</td>\n",
       "      <td>0</td>\n",
       "      <td>0</td>\n",
       "      <td>0</td>\n",
       "      <td>0</td>\n",
       "      <td>0</td>\n",
       "      <td>0</td>\n",
       "      <td>0</td>\n",
       "      <td>0</td>\n",
       "    </tr>\n",
       "    <tr>\n",
       "      <th>884259</th>\n",
       "      <td>884259</td>\n",
       "      <td>0</td>\n",
       "      <td>0</td>\n",
       "      <td>0</td>\n",
       "      <td>0</td>\n",
       "      <td>0</td>\n",
       "      <td>0</td>\n",
       "      <td>0</td>\n",
       "      <td>0</td>\n",
       "      <td>0</td>\n",
       "      <td>...</td>\n",
       "      <td>0</td>\n",
       "      <td>0</td>\n",
       "      <td>0</td>\n",
       "      <td>0</td>\n",
       "      <td>0</td>\n",
       "      <td>0</td>\n",
       "      <td>0</td>\n",
       "      <td>0</td>\n",
       "      <td>0</td>\n",
       "      <td>0</td>\n",
       "    </tr>\n",
       "    <tr>\n",
       "      <th>884260</th>\n",
       "      <td>884260</td>\n",
       "      <td>0</td>\n",
       "      <td>0</td>\n",
       "      <td>0</td>\n",
       "      <td>0</td>\n",
       "      <td>0</td>\n",
       "      <td>0</td>\n",
       "      <td>0</td>\n",
       "      <td>0</td>\n",
       "      <td>0</td>\n",
       "      <td>...</td>\n",
       "      <td>0</td>\n",
       "      <td>0</td>\n",
       "      <td>0</td>\n",
       "      <td>0</td>\n",
       "      <td>0</td>\n",
       "      <td>0</td>\n",
       "      <td>0</td>\n",
       "      <td>0</td>\n",
       "      <td>0</td>\n",
       "      <td>0</td>\n",
       "    </tr>\n",
       "    <tr>\n",
       "      <th>884261</th>\n",
       "      <td>884261</td>\n",
       "      <td>0</td>\n",
       "      <td>0</td>\n",
       "      <td>0</td>\n",
       "      <td>0</td>\n",
       "      <td>0</td>\n",
       "      <td>0</td>\n",
       "      <td>0</td>\n",
       "      <td>0</td>\n",
       "      <td>0</td>\n",
       "      <td>...</td>\n",
       "      <td>0</td>\n",
       "      <td>0</td>\n",
       "      <td>0</td>\n",
       "      <td>0</td>\n",
       "      <td>0</td>\n",
       "      <td>0</td>\n",
       "      <td>0</td>\n",
       "      <td>0</td>\n",
       "      <td>0</td>\n",
       "      <td>0</td>\n",
       "    </tr>\n",
       "  </tbody>\n",
       "</table>\n",
       "<p>884262 rows × 40 columns</p>\n",
       "</div>"
      ],
      "text/plain": [
       "            Id  ARSON  ASSAULT  BAD CHECKS  BRIBERY  BURGLARY  \\\n",
       "0            0      0        0           0        0         0   \n",
       "1            1      0        0           0        0         0   \n",
       "2            2      0        0           0        0         0   \n",
       "3            3      0        0           0        0         0   \n",
       "4            4      0        0           0        0         0   \n",
       "...        ...    ...      ...         ...      ...       ...   \n",
       "884257  884257      0        0           0        0         0   \n",
       "884258  884258      0        0           0        0         0   \n",
       "884259  884259      0        0           0        0         0   \n",
       "884260  884260      0        0           0        0         0   \n",
       "884261  884261      0        0           0        0         0   \n",
       "\n",
       "        DISORDERLY CONDUCT  DRIVING UNDER THE INFLUENCE  DRUG/NARCOTIC  \\\n",
       "0                        0                            0              0   \n",
       "1                        0                            0              0   \n",
       "2                        0                            0              0   \n",
       "3                        0                            0              0   \n",
       "4                        0                            0              0   \n",
       "...                    ...                          ...            ...   \n",
       "884257                   0                            0              0   \n",
       "884258                   0                            0              0   \n",
       "884259                   0                            0              0   \n",
       "884260                   0                            0              0   \n",
       "884261                   0                            0              0   \n",
       "\n",
       "        DRUNKENNESS  ...  SEX OFFENSES NON FORCIBLE  STOLEN PROPERTY  SUICIDE  \\\n",
       "0                 0  ...                          0                0        0   \n",
       "1                 0  ...                          0                0        0   \n",
       "2                 0  ...                          0                0        0   \n",
       "3                 0  ...                          0                0        0   \n",
       "4                 0  ...                          0                0        0   \n",
       "...             ...  ...                        ...              ...      ...   \n",
       "884257            0  ...                          0                0        0   \n",
       "884258            0  ...                          0                0        0   \n",
       "884259            0  ...                          0                0        0   \n",
       "884260            0  ...                          0                0        0   \n",
       "884261            0  ...                          0                0        0   \n",
       "\n",
       "        SUSPICIOUS OCC  TREA  TRESPASS  VANDALISM  VEHICLE THEFT  WARRANTS  \\\n",
       "0                    0     0         0          0              1         0   \n",
       "1                    0     0         0          0              0         0   \n",
       "2                    0     0         0          0              0         0   \n",
       "3                    0     0         0          0              0         0   \n",
       "4                    0     0         0          0              0         0   \n",
       "...                ...   ...       ...        ...            ...       ...   \n",
       "884257               0     0         0          0              0         0   \n",
       "884258               0     0         0          0              0         0   \n",
       "884259               0     0         0          0              0         0   \n",
       "884260               0     0         0          0              0         0   \n",
       "884261               0     0         0          0              0         0   \n",
       "\n",
       "        WEAPON LAWS  \n",
       "0                 0  \n",
       "1                 0  \n",
       "2                 0  \n",
       "3                 0  \n",
       "4                 0  \n",
       "...             ...  \n",
       "884257            0  \n",
       "884258            0  \n",
       "884259            0  \n",
       "884260            0  \n",
       "884261            0  \n",
       "\n",
       "[884262 rows x 40 columns]"
      ]
     },
     "execution_count": 37,
     "metadata": {},
     "output_type": "execute_result"
    }
   ],
   "source": [
    "results_df"
   ]
  },
  {
   "cell_type": "code",
   "execution_count": 38,
   "id": "57f2d282-fec4-4cd4-959c-42107e0826e0",
   "metadata": {
    "tags": []
   },
   "outputs": [],
   "source": [
    "results_df.to_csv('mysubmission.csv', index=False)"
   ]
  },
  {
   "cell_type": "code",
   "execution_count": null,
   "id": "e2ade56f-62b5-4fdb-81ce-dfc82c0b30fb",
   "metadata": {},
   "outputs": [],
   "source": []
  }
 ],
 "metadata": {
  "kernelspec": {
   "display_name": "MyEnv",
   "language": "python",
   "name": "myenv"
  },
  "language_info": {
   "codemirror_mode": {
    "name": "ipython",
    "version": 3
   },
   "file_extension": ".py",
   "mimetype": "text/x-python",
   "name": "python",
   "nbconvert_exporter": "python",
   "pygments_lexer": "ipython3",
   "version": "3.8.18"
  }
 },
 "nbformat": 4,
 "nbformat_minor": 5
}
